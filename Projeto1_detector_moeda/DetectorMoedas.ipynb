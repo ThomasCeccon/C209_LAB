{
 "cells": [
  {
   "cell_type": "markdown",
   "metadata": {},
   "source": [
    "# Bibliotecas"
   ]
  },
  {
   "cell_type": "code",
   "execution_count": null,
   "metadata": {},
   "outputs": [],
   "source": [
    "import cv2\n",
    "import numpy as np\n",
    "from keras.models import load_model"
   ]
  },
  {
   "cell_type": "markdown",
   "metadata": {},
   "source": [
    "# Ativar WebCam e processamento "
   ]
  },
  {
   "cell_type": "code",
   "execution_count": null,
   "metadata": {},
   "outputs": [],
   "source": [
    "#tensorFlow e keras\n",
    "\n",
    "video = cv2.VideoCapture(1,cv2.CAP_DSHOW) #qual tipo de camera sera utilizada\n",
    "\n",
    "model = load_model('Keras_model.h5',compile=False) #utilizar para reconhecer a imagem\n",
    "data = np.ndarray(shape=(1,224,224,3),dtype=np.float32) #definir o tipo de dado\n",
    "classes = [\"1 real\",\"25 cent\",\"50 cent\"] #array que recebe as labels (indices)\n",
    "\n",
    "#objetivo de contornar o objeto\n",
    "def preProcess(img):\n",
    "    imgPre = cv2.GaussianBlur(img,(5,5),3) #expandir os pixels da imagem(borrar imagem)\n",
    "    imgPre = cv2.Canny(imgPre,90,140)#filtrar a imagem pelas bordas\n",
    "    kernel = np.ones((4,4),np.uint8)#extrair bordas da imagem\n",
    "    imgPre = cv2.dilate(imgPre,kernel,iterations=4) #dilatar a imagem\n",
    "    imgPre = cv2.erode(imgPre,kernel,iterations=3) #erosão na imagem\n",
    "    return imgPre\n",
    "\n",
    "#reconhecimento de moedas \n",
    "def DetectarMoeda(img):\n",
    "    imgMoeda = cv2.resize(img,(224,224))#redimencionar a imagem com tamamnho\n",
    "    imgMoeda = np.asarray(imgMoeda)\n",
    "    imgMoedaNormalize = (imgMoeda.astype(np.float32)/127.0)-1 #normalizar a imagem\n",
    "    data[0] = imgMoedaNormalize \n",
    "    prediction = model.predict(data)#passo a imagem para o modelo\n",
    "    index = np.argmax(prediction) #extrair o maior valor\n",
    "    percent = prediction[0][index] #percentual de predição\n",
    "    classe = classes[index]\n",
    "    return classe,percent\n",
    "\n",
    "#pegar a imagem cortada pre processar e descobrir qual é a moeda\n",
    "while True:\n",
    "    _,img = video.read()#leitura da imagem\n",
    "    img = cv2.resize(img,(640,480))#redimensionar a imagem\n",
    "    imgPre = preProcess(img) #chamando a imagem pre processada\n",
    "    countors,hi = cv2.findContours(imgPre,cv2.RETR_EXTERNAL,cv2.CHAIN_APPROX_NONE) #rastrear os objetos\n",
    "    \n",
    "    if not _:\n",
    "       print(\"sair do video\")\n",
    "       break\n",
    "\n",
    "    qtd = 0 #contador\n",
    "    for cnt in countors:  #percorrer para identificar cada objeto individual\n",
    "        area = cv2.contourArea(cnt) #validar a area do objeto\n",
    "        if area > 2000: #evitar ruido caso nao tenha moeda\n",
    "            x,y,w,h = cv2.boundingRect(cnt) \n",
    "            cv2.rectangle(img,(x,y),(x+w,y+h),(0,255,0),2)#definir retangulo ao encontrar um objeto\n",
    "            recorte = img[y:y +h,x:x+ w] #recortar as moedas\n",
    "            classe, conf = DetectarMoeda(recorte)#\n",
    "            if conf >0.7: #ficar mais preciso o reconhecimento da imagem\n",
    "                cv2.putText(img,str(classe),(x,y),cv2.FONT_HERSHEY_SIMPLEX,0.5,(255,255,255),2)#visualizar qual é a classe\n",
    "                if classe == '1 real': qtd+=1\n",
    "                if classe == '25 cent': qtd += 0.25\n",
    "                if classe == '50 cent': qtd += 0.5\n",
    "\n",
    "    cv2.rectangle(img,(430,30),(600,80),(0,255,0),-1)#layout para mostrar valores\n",
    "    cv2.putText(img,f'R$ {qtd}',(440,67),cv2.FONT_HERSHEY_SIMPLEX,1.2,(255,255,255),2) #mostrar valor\n",
    "\n",
    "    cv2.imshow('IMG',img) #exibir imagem\n",
    "    cv2.imshow('IMG PRE', imgPre)\n",
    "\n",
    "    sair = cv2.waitKey(1) & 0xFF #checar se foi clicado na tela\n",
    "\n",
    "    if sair == 27:  # Presionar esc para sair\n",
    "        break\n",
    "    \n",
    "video.release()\n",
    "cv2.destroyAllWindows()    "
   ]
  }
 ],
 "metadata": {
  "kernelspec": {
   "display_name": "Python 3",
   "language": "python",
   "name": "python3"
  },
  "language_info": {
   "codemirror_mode": {
    "name": "ipython",
    "version": 3
   },
   "file_extension": ".py",
   "mimetype": "text/x-python",
   "name": "python",
   "nbconvert_exporter": "python",
   "pygments_lexer": "ipython3",
   "version": "3.11.1"
  }
 },
 "nbformat": 4,
 "nbformat_minor": 2
}
